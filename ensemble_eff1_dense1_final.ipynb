{
 "cells": [
  {
   "cell_type": "markdown",
   "id": "62c6d901-e843-4257-9e2b-61121a19121f",
   "metadata": {},
   "source": [
    "## Prepare ensemble process"
   ]
  },
  {
   "cell_type": "code",
   "execution_count": 1,
   "id": "b932b2f9-da4d-4de1-bdf3-6190bb682a8c",
   "metadata": {},
   "outputs": [],
   "source": [
    "import numpy as np\n",
    "import pandas as pd\n",
    "import os\n",
    "\n",
    "# Prepare test_image_paths for image IDs extraction\n",
    "test_image_dir = r\"C:\\Users\\kelly\\Desktop\\New folder\\eval_xray_im\"\n",
    "test_image_paths = [os.path.join(test_image_dir, img) for img in os.listdir(test_image_dir)]\n",
    "test_image_paths.sort()  # Ensure they are in the correct order\n",
    "\n",
    "# Load saved predictions\n",
    "predictions_efficientnet = np.load(\"C://Users//kelly//Desktop//New folder//efficientnet1_bbox//predictions_efficientnet1.npy\")\n",
    "predictions_densenet = np.load(\"C://Users//kelly//Desktop//New folder//densenet1_bbox//predictions_densenet1.npy\")\n",
    "predictions_resnet = np.load(\"C://Users//kelly//Desktop//New folder//resnet1_bbox//predictions_resnet1.npy\")\n",
    "\n",
    "# Perform the ensemble\n",
    "# Assign weights based on prior validation performance\n",
    "weights = {'efficientnet': 0.6, 'densenet': 0.3, 'resnet': 0.1 }\n",
    "\n",
    "# Weighted average of predictions\n",
    "weighted_predictions = (weights['efficientnet'] * predictions_efficientnet +\n",
    "                        weights['densenet'] * predictions_densenet  +\n",
    "                        weights['resnet'] * predictions_resnet) / sum(weights.values())\n",
    "\n",
    "# Use the second column (index 1) as it represents the probability of the positive class\n",
    "final_predictions = (weighted_predictions[:, 1] > 0.6).astype(int)\n",
    "\n",
    "\n",
    "# Extract image IDs from test_image_paths\n",
    "image_ids = [os.path.basename(path) for path in test_image_paths]\n"
   ]
  },
  {
   "cell_type": "markdown",
   "id": "91749977-77b6-405e-972f-e7f8460c7a75",
   "metadata": {},
   "source": [
    "## Final Predictions"
   ]
  },
  {
   "cell_type": "code",
   "execution_count": 2,
   "id": "7edefce2-8acb-4174-8d2a-5064095cc707",
   "metadata": {},
   "outputs": [],
   "source": [
    "# Create a DataFrame with the image IDs and the final predictions\n",
    "submission_df = pd.DataFrame({\n",
    "    'Id': image_ids,\n",
    "    'Label': final_predictions\n",
    "})"
   ]
  },
  {
   "cell_type": "code",
   "execution_count": 3,
   "id": "6ddf7dfe-1e19-4fbe-8fe6-bf93077d74a0",
   "metadata": {},
   "outputs": [
    {
     "name": "stdout",
     "output_type": "stream",
     "text": [
      "Submission file saved to submission.csv\n"
     ]
    }
   ],
   "source": [
    "submission_csv_path = 'submission.csv'\n",
    "submission_df.to_csv(submission_csv_path, index=False)\n",
    "print(f\"Submission file saved to {submission_csv_path}\")"
   ]
  },
  {
   "cell_type": "code",
   "execution_count": 4,
   "id": "647950a9-5186-4e67-91d9-4faad39c5ed9",
   "metadata": {},
   "outputs": [
    {
     "data": {
      "text/html": [
       "<div>\n",
       "<style scoped>\n",
       "    .dataframe tbody tr th:only-of-type {\n",
       "        vertical-align: middle;\n",
       "    }\n",
       "\n",
       "    .dataframe tbody tr th {\n",
       "        vertical-align: top;\n",
       "    }\n",
       "\n",
       "    .dataframe thead th {\n",
       "        text-align: right;\n",
       "    }\n",
       "</style>\n",
       "<table border=\"1\" class=\"dataframe\">\n",
       "  <thead>\n",
       "    <tr style=\"text-align: right;\">\n",
       "      <th></th>\n",
       "      <th>Id</th>\n",
       "      <th>Label</th>\n",
       "    </tr>\n",
       "  </thead>\n",
       "  <tbody>\n",
       "    <tr>\n",
       "      <th>0</th>\n",
       "      <td>00000.jpg</td>\n",
       "      <td>0</td>\n",
       "    </tr>\n",
       "    <tr>\n",
       "      <th>1</th>\n",
       "      <td>00001.jpg</td>\n",
       "      <td>0</td>\n",
       "    </tr>\n",
       "    <tr>\n",
       "      <th>2</th>\n",
       "      <td>00002.jpg</td>\n",
       "      <td>0</td>\n",
       "    </tr>\n",
       "    <tr>\n",
       "      <th>3</th>\n",
       "      <td>00003.jpg</td>\n",
       "      <td>0</td>\n",
       "    </tr>\n",
       "    <tr>\n",
       "      <th>4</th>\n",
       "      <td>00004.jpg</td>\n",
       "      <td>1</td>\n",
       "    </tr>\n",
       "    <tr>\n",
       "      <th>...</th>\n",
       "      <td>...</td>\n",
       "      <td>...</td>\n",
       "    </tr>\n",
       "    <tr>\n",
       "      <th>5995</th>\n",
       "      <td>05995.jpg</td>\n",
       "      <td>1</td>\n",
       "    </tr>\n",
       "    <tr>\n",
       "      <th>5996</th>\n",
       "      <td>05996.jpg</td>\n",
       "      <td>1</td>\n",
       "    </tr>\n",
       "    <tr>\n",
       "      <th>5997</th>\n",
       "      <td>05997.jpg</td>\n",
       "      <td>0</td>\n",
       "    </tr>\n",
       "    <tr>\n",
       "      <th>5998</th>\n",
       "      <td>05998.jpg</td>\n",
       "      <td>1</td>\n",
       "    </tr>\n",
       "    <tr>\n",
       "      <th>5999</th>\n",
       "      <td>05999.jpg</td>\n",
       "      <td>1</td>\n",
       "    </tr>\n",
       "  </tbody>\n",
       "</table>\n",
       "<p>6000 rows × 2 columns</p>\n",
       "</div>"
      ],
      "text/plain": [
       "             Id  Label\n",
       "0     00000.jpg      0\n",
       "1     00001.jpg      0\n",
       "2     00002.jpg      0\n",
       "3     00003.jpg      0\n",
       "4     00004.jpg      1\n",
       "...         ...    ...\n",
       "5995  05995.jpg      1\n",
       "5996  05996.jpg      1\n",
       "5997  05997.jpg      0\n",
       "5998  05998.jpg      1\n",
       "5999  05999.jpg      1\n",
       "\n",
       "[6000 rows x 2 columns]"
      ]
     },
     "execution_count": 4,
     "metadata": {},
     "output_type": "execute_result"
    }
   ],
   "source": [
    "submission_df"
   ]
  },
  {
   "cell_type": "code",
   "execution_count": null,
   "id": "1f8ac158-0e3d-415a-800e-4b2f58f19b77",
   "metadata": {},
   "outputs": [],
   "source": []
  }
 ],
 "metadata": {
  "kernelspec": {
   "display_name": "Python 3 (ipykernel)",
   "language": "python",
   "name": "python3"
  },
  "language_info": {
   "codemirror_mode": {
    "name": "ipython",
    "version": 3
   },
   "file_extension": ".py",
   "mimetype": "text/x-python",
   "name": "python",
   "nbconvert_exporter": "python",
   "pygments_lexer": "ipython3",
   "version": "3.10.13"
  }
 },
 "nbformat": 4,
 "nbformat_minor": 5
}
